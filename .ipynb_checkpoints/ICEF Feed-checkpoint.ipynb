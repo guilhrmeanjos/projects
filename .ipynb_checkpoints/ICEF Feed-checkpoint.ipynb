{
 "cells": [
  {
   "cell_type": "markdown",
   "metadata": {},
   "source": [
    "### Parsing"
   ]
  },
  {
   "cell_type": "code",
   "execution_count": 96,
   "metadata": {
    "collapsed": true
   },
   "outputs": [],
   "source": [
    "from bs4 import BeautifulSoup\n",
    "import urllib2"
   ]
  },
  {
   "cell_type": "markdown",
   "metadata": {},
   "source": [
    "#### Define the functions"
   ]
  },
  {
   "cell_type": "code",
   "execution_count": 247,
   "metadata": {
    "collapsed": true
   },
   "outputs": [],
   "source": [
    "def getSoupFromUrl(url):\n",
    "    req = urllib2.Request(url, headers={'User-Agent' : \"Chrome\"}) \n",
    "    con = urllib2.urlopen(req)\n",
    "    page = con.read()\n",
    "    soup = BeautifulSoup(page, \"lxml\")\n",
    "    con.close()\n",
    "    return soup"
   ]
  },
  {
   "cell_type": "code",
   "execution_count": 250,
   "metadata": {},
   "outputs": [
    {
     "name": "stdout",
     "output_type": "stream",
     "text": [
      "..0\n"
     ]
    }
   ],
   "source": [
    "base_url = 'http://monitor.icef.com/'\n",
    "tag=\"div\"\n",
    "attr1=\"class\"\n",
    "attr2=\"article\"\n",
    "articles = []\n",
    "num_pages = 1\n",
    "\n",
    "for i in range(num_pages):\n",
    "    url = 'http://monitor.icef.com/page/{}/'.format(i)\n",
    "    soup = getSoupFromUrl(url)\n",
    "    print(\"..{}\".format(i))\n",
    "    result = soup.find_all(tag, attrs={attr1: attr2})\n",
    "    for line in result[0:10]:\n",
    "        for row in line.find_all('a'):\n",
    "            soup = getSoupFromUrl(row.get(\"href\"))\n",
    "            paras = soup.find_all(\"p\")\n",
    "            content = \" \".join([para.getText() for para in paras])\n",
    "            articles.append(content)"
   ]
  },
  {
   "cell_type": "code",
   "execution_count": 261,
   "metadata": {},
   "outputs": [
    {
     "name": "stdout",
     "output_type": "stream",
     "text": [
      "2006–2016\n"
     ]
    }
   ],
   "source": [
    "print u'2006\\u20132016'"
   ]
  },
  {
   "cell_type": "markdown",
   "metadata": {},
   "source": [
    "### Save article content only"
   ]
  },
  {
   "cell_type": "code",
   "execution_count": 100,
   "metadata": {
    "collapsed": true
   },
   "outputs": [],
   "source": [
    "import codecs\n",
    "import re"
   ]
  },
  {
   "cell_type": "code",
   "execution_count": 101,
   "metadata": {
    "collapsed": true
   },
   "outputs": [],
   "source": [
    "filename = 'news.txt'\n",
    "file = codecs.open(filename, \"w\", \"utf-8\")\n",
    "for article in articles:\n",
    "    file.write(re.sub( '\\s+', ' ', article).strip() + '\\n')\n",
    "file.close()"
   ]
  },
  {
   "cell_type": "code",
   "execution_count": 202,
   "metadata": {},
   "outputs": [],
   "source": [
    "''' Reading Saved Articles'''\n",
    "filename = 'news.txt'\n",
    "articles = [] \n",
    "for article in codecs.open(filename, 'r', encoding=\"utf-8\"):\n",
    "    articles.append(article)"
   ]
  },
  {
   "cell_type": "code",
   "execution_count": 205,
   "metadata": {},
   "outputs": [
    {
     "data": {
      "text/plain": [
       "u\"Short on time? Here are the highlights: The latest year-to-date enrolment data for Australia paints a picture of continuing growth as the halfway point in the year approaches. Department of Education and Training (DET) numbers for YTD May 2017 show overall commencement growth of just over 12%. Building on equally strong commencement growth through 2015 and 2016, total enrolment numbers are up even more through May with a nearly 14% increase compared to the year before. As the following chart illustrates, the higher education and VET (vocational education and training) sectors account for most of this growth through May, with most other sectors registering more modest gains. International student commencements in Australia, by education sector, 2006\\u20132016. Source: English Australia, DET A closer look behind the numbers reveals that just four markets \\u2013 China, India, Nepal, and Vietnam \\u2013 drove nearly all of the growth in higher education through May. In VET, meanwhile, China, South Korea, and Brazil lead the way with the greatest YTD growth. In fact, Brazil is an interesting part of the story so far this year. In a further indication of its strengthening outbound market, Brazil is one of the fastest-growing sending markets for Australia overall with nearly 12,000 commencements in the first half of 2017 and a 23% increase in programme starts compared to the year before. Other than China and India, which remain solidly entrenched at the top of the source market table, the other notable growth markets this year are Nepal (10,000 commencements YTD and 83% growth), Malaysia (also with about 10,000 new students and 18% growth), and Colombia (just over 7,000 commencements and 26% growth). In terms of total enrolment growth among Australia\\u2019s top ten sending markets, the big gainers through May are China (18%), Malaysia (18%), Nepal (47%), and Brazil (26%). These latest DET numbers follow another important indicator from the Australian Bureau of Statistics (ABS) earlier this month. ABS reports that the total value of international student spending in Australia, including tuition fees, accommodation, and other expenses, rose by nearly 19% in 2016 to reach AUS$24 billion (US$19 billion). Needless to say, this all adds up to an impressive showing in the early stages of implementation for Australia\\u2019s National Strategy for International Education 2025. The national strategy is a comprehensive ten-year blueprint for the expansion of Australia\\u2019s international education sector. Among other key goals, the strategy aims to expand onshore foreign enrolment to 720,000 students by 2025. For additional background please see: Did you enjoy this article? Then don't miss the next one! Sign up for free daily and/or weekly e-alerts today. Your email address will not be published. Required fields are marked * Comment Name * Email * Website\\n\""
      ]
     },
     "execution_count": 205,
     "metadata": {},
     "output_type": "execute_result"
    }
   ],
   "source": [
    "articles[0]"
   ]
  },
  {
   "cell_type": "markdown",
   "metadata": {},
   "source": [
    "### Extract the additional information you need"
   ]
  },
  {
   "cell_type": "code",
   "execution_count": 102,
   "metadata": {
    "collapsed": true
   },
   "outputs": [],
   "source": [
    "# GET TITLES\n",
    "\n",
    "title = []\n",
    "for line in result[0:10]:\n",
    "    for row in line.find_all('a'):\n",
    "        title.append(row.get_text())"
   ]
  },
  {
   "cell_type": "code",
   "execution_count": 103,
   "metadata": {},
   "outputs": [
    {
     "data": {
      "text/plain": [
       "[u'Australia: Growth remains strong at mid-year',\n",
       " u'Brazilian outbound continues to strengthen with a trend to longer stays abroad',\n",
       " u'UK: Net migration questioned again as new data shows 97% of international students leave in time',\n",
       " u'Canadian language programmes register modest growth in 2016',\n",
       " u'Ireland moves to expand student housing stock',\n",
       " u'Slowing growth in foreign secondary enrolment carries important implications for US recruiters',\n",
       " u'Indian higher ed enrolment skyrocketing but foreign numbers remain modest',\n",
       " u'US: Most university business officers anticipate financial challenges ahead',\n",
       " u'The business case for translating your website',\n",
       " u'Megatrend: The shift to emerging markets']"
      ]
     },
     "execution_count": 103,
     "metadata": {},
     "output_type": "execute_result"
    }
   ],
   "source": [
    "title"
   ]
  },
  {
   "cell_type": "code",
   "execution_count": 104,
   "metadata": {
    "collapsed": true
   },
   "outputs": [],
   "source": [
    "# GET LINKS\n",
    "link = []\n",
    "for line in result[0:10]:\n",
    "    for row in line.find_all('a'):\n",
    "        link.append(row[\"href\"])"
   ]
  },
  {
   "cell_type": "code",
   "execution_count": 105,
   "metadata": {
    "scrolled": true
   },
   "outputs": [
    {
     "data": {
      "text/plain": [
       "['http://monitor.icef.com/2017/08/australia-growth-remains-strong-mid-year/',\n",
       " 'http://monitor.icef.com/2017/08/brazilian-outbound-continues-strengthen-trend-longer-stays-abroad/',\n",
       " 'http://monitor.icef.com/2017/08/uk-net-migration-questioned-new-data-shows-97-international-students-leave-time/',\n",
       " 'http://monitor.icef.com/2017/08/canadian-language-programmes-register-modest-growth-2016/',\n",
       " 'http://monitor.icef.com/2017/08/ireland-moves-expand-student-housing-stock/',\n",
       " 'http://monitor.icef.com/2017/08/slowing-growth-foreign-secondary-enrolment-carries-implications-us-recruiters/',\n",
       " 'http://monitor.icef.com/2017/08/indian-higher-ed-enrolment-skyrocketing-foreign-numbers-remain-modest/',\n",
       " 'http://monitor.icef.com/2017/08/us-university-business-officers-anticipate-financial-challenges-ahead/',\n",
       " 'http://monitor.icef.com/2017/08/business-case-translating-website/',\n",
       " 'http://monitor.icef.com/2017/08/megatrend-shift-emerging-markets/']"
      ]
     },
     "execution_count": 105,
     "metadata": {},
     "output_type": "execute_result"
    }
   ],
   "source": [
    "link"
   ]
  },
  {
   "cell_type": "code",
   "execution_count": 106,
   "metadata": {},
   "outputs": [],
   "source": [
    "# SHORTEN URL\n",
    "\n",
    "short_link = []\n",
    "import shortuuid\n",
    "for i in link:\n",
    "    short_link.append(shortuuid.uuid(name=i))"
   ]
  },
  {
   "cell_type": "code",
   "execution_count": 107,
   "metadata": {},
   "outputs": [
    {
     "data": {
      "text/plain": [
       "['7h6FiXaz6Yb4oaknxkkz4b',\n",
       " 'w3TckmndJPYudpdAfiAzcK',\n",
       " 'KcwvJfSXhDQXVXeGyYNQab',\n",
       " 'UpVaoP5efEUcfGsFFGZXDU',\n",
       " 'DYtYDQXkvzYgey6qiGkRRg',\n",
       " 'Vu2uepyi2YNveuQ2yX2i5J',\n",
       " 'yDTT9tF37ZWzpJT3earHbB',\n",
       " 'v9nzZpaj67Vv9mPrFyMaJW',\n",
       " 'ihaZEhzDHkP5V3iQQKhuLH',\n",
       " 'txXg7KzHJKdknLibjtHjML']"
      ]
     },
     "execution_count": 107,
     "metadata": {},
     "output_type": "execute_result"
    }
   ],
   "source": [
    "short_link"
   ]
  },
  {
   "cell_type": "code",
   "execution_count": 108,
   "metadata": {},
   "outputs": [
    {
     "name": "stdout",
     "output_type": "stream",
     "text": [
      "7h6FiXaz6Yb4oaknxkkz4b ['http://monitor.icef.com/2017/08/australia-growth-remains-strong-mid-year/']\n",
      "UpVaoP5efEUcfGsFFGZXDU ['http://monitor.icef.com/2017/08/canadian-language-programmes-register-modest-growth-2016/']\n",
      "txXg7KzHJKdknLibjtHjML ['http://monitor.icef.com/2017/08/megatrend-shift-emerging-markets/']\n",
      "KcwvJfSXhDQXVXeGyYNQab ['http://monitor.icef.com/2017/08/uk-net-migration-questioned-new-data-shows-97-international-students-leave-time/']\n",
      "ihaZEhzDHkP5V3iQQKhuLH ['http://monitor.icef.com/2017/08/business-case-translating-website/']\n",
      "v9nzZpaj67Vv9mPrFyMaJW ['http://monitor.icef.com/2017/08/us-university-business-officers-anticipate-financial-challenges-ahead/']\n",
      "DYtYDQXkvzYgey6qiGkRRg ['http://monitor.icef.com/2017/08/ireland-moves-expand-student-housing-stock/']\n",
      "Vu2uepyi2YNveuQ2yX2i5J ['http://monitor.icef.com/2017/08/slowing-growth-foreign-secondary-enrolment-carries-implications-us-recruiters/']\n",
      "w3TckmndJPYudpdAfiAzcK ['http://monitor.icef.com/2017/08/brazilian-outbound-continues-strengthen-trend-longer-stays-abroad/']\n",
      "yDTT9tF37ZWzpJT3earHbB ['http://monitor.icef.com/2017/08/indian-higher-ed-enrolment-skyrocketing-foreign-numbers-remain-modest/']\n"
     ]
    }
   ],
   "source": [
    "for k, v in short_to_link.iteritems():\n",
    "    print k, v"
   ]
  },
  {
   "cell_type": "code",
   "execution_count": 110,
   "metadata": {
    "collapsed": true
   },
   "outputs": [],
   "source": [
    "# GET DATES\n",
    "\n",
    "dates = []\n",
    "\n",
    "for line in result[0:10]:\n",
    "    for row in line.find_all('a'):\n",
    "        soup = getSoupFromUrl(row.get(\"href\"))\n",
    "        dates.append(str(soup.find_all(\"span\", attrs={\"style\": \"margin-right:40px;position:relative;top:13px;\"})))"
   ]
  },
  {
   "cell_type": "code",
   "execution_count": 111,
   "metadata": {
    "scrolled": true
   },
   "outputs": [],
   "source": [
    "date = []\n",
    "\n",
    "for i in dates:\n",
    "    date.append(re.search(r'\\[\\<span style\\=\\\"margin\\-right\\:40px\\;position\\:relative\\;top\\:13px\\;\\\"\\>(.*?)\\<\\/span\\>', i).group(1))"
   ]
  },
  {
   "cell_type": "code",
   "execution_count": 112,
   "metadata": {
    "scrolled": true
   },
   "outputs": [
    {
     "data": {
      "text/plain": [
       "['30 Aug  2017',\n",
       " '29 Aug  2017',\n",
       " '28 Aug  2017',\n",
       " '23 Aug  2017',\n",
       " '23 Aug  2017',\n",
       " '16 Aug  2017',\n",
       " '16 Aug  2017',\n",
       " '9 Aug  2017',\n",
       " '8 Aug  2017',\n",
       " '2 Aug  2017']"
      ]
     },
     "execution_count": 112,
     "metadata": {},
     "output_type": "execute_result"
    }
   ],
   "source": [
    "date"
   ]
  },
  {
   "cell_type": "code",
   "execution_count": 113,
   "metadata": {},
   "outputs": [],
   "source": [
    "import datetime as dt\n",
    "\n",
    "std_date = []\n",
    "\n",
    "for i in date:\n",
    "    std_date.append(dt.datetime.strptime(i, \"%d %b %Y\").strftime('%Y-%m-%d'))"
   ]
  },
  {
   "cell_type": "code",
   "execution_count": 114,
   "metadata": {},
   "outputs": [
    {
     "data": {
      "text/plain": [
       "['2017-08-30',\n",
       " '2017-08-29',\n",
       " '2017-08-28',\n",
       " '2017-08-23',\n",
       " '2017-08-23',\n",
       " '2017-08-16',\n",
       " '2017-08-16',\n",
       " '2017-08-09',\n",
       " '2017-08-08',\n",
       " '2017-08-02']"
      ]
     },
     "execution_count": 114,
     "metadata": {},
     "output_type": "execute_result"
    }
   ],
   "source": [
    "std_date"
   ]
  },
  {
   "cell_type": "markdown",
   "metadata": {},
   "source": [
    "### Save article content and general information"
   ]
  },
  {
   "cell_type": "code",
   "execution_count": 115,
   "metadata": {
    "collapsed": true
   },
   "outputs": [],
   "source": [
    "lib = {z[0]:list(z[1:]) for z in zip(title,link,date,articles)}"
   ]
  },
  {
   "cell_type": "code",
   "execution_count": 116,
   "metadata": {},
   "outputs": [
    {
     "data": {
      "text/plain": [
       "[u'The business case for translating your website',\n",
       " u'Megatrend: The shift to emerging markets',\n",
       " u'Brazilian outbound continues to strengthen with a trend to longer stays abroad',\n",
       " u'Slowing growth in foreign secondary enrolment carries important implications for US recruiters',\n",
       " u'US: Most university business officers anticipate financial challenges ahead',\n",
       " u'Canadian language programmes register modest growth in 2016',\n",
       " u'Australia: Growth remains strong at mid-year',\n",
       " u'Indian higher ed enrolment skyrocketing but foreign numbers remain modest',\n",
       " u'Ireland moves to expand student housing stock',\n",
       " u'UK: Net migration questioned again as new data shows 97% of international students leave in time']"
      ]
     },
     "execution_count": 116,
     "metadata": {},
     "output_type": "execute_result"
    }
   ],
   "source": [
    "lib.keys()"
   ]
  },
  {
   "cell_type": "markdown",
   "metadata": {},
   "source": [
    "### Language processing"
   ]
  },
  {
   "cell_type": "markdown",
   "metadata": {},
   "source": [
    "#### How to return article information concatenated with the sentence of interest?\n",
    "        - Concatenate/\"tag\" every string with its article information (title, date, link)\n",
    "        - When processing the strings, ignore the additional information or \"tag\" but include it when printing\n",
    "        - Perhaps that could be achieved by adding the addtional information to the stopwords"
   ]
  },
  {
   "cell_type": "code",
   "execution_count": 118,
   "metadata": {
    "collapsed": true
   },
   "outputs": [],
   "source": [
    "libl = lib.items()"
   ]
  },
  {
   "cell_type": "code",
   "execution_count": 130,
   "metadata": {
    "scrolled": true
   },
   "outputs": [
    {
     "data": {
      "text/plain": [
       "u\"Short on time? Here are the highlights: If there were only 100 people in the world, says web globalisation expert John Yunker, more than half of them would live in Asia. North America would account for only seven. This is a bit of a jarring mental exercise but one that highlights how much population and economic growth has taken hold outside of the world\\u2019s developed markets. And it\\u2019s an idea that underpins the business case for investing more in adapting the structure, design, and content of your website for international markets. The following table illustrates the composition of global Internet usage in terms of the native languages of users, and it offers a couple of broad observations on the state of the web today. \\nInternet users by native language, March 2017. Source: Internet World Stats First, only about a quarter of web users are native English speakers. There is an important qualifier here in that these statistics are based on native languages spoken, and of course there will be large numbers of users with other native languages who also speak English. However, when it comes to reaching those with more limited English skills, including the parents of prospective students, or even getting a competitive advantage by dealing with prospects in their native language, the table carries some significant implications for international recruiters. Among its other key findings, the latest statistics indicate that the top ten native language groups account for nearly eight in ten of all users on the web. It notes as well that the growth of several other native language groups has greatly outstripped the growth in the native-English base over the last seven years, particularly with respect to native Chinese, Arabic, Indonesian/Malaysian, and Russian speakers. Needless to say, every institution or agency has to match its priorities and targets to that evolving pattern of global Internet user. But it nevertheless highlights some of the important macro trends regarding language usage online. In a recent interview, Mr Yunker makes an interesting distinction between the related processes of internationalising and then localising your website: \\u201cInternationalisation is the process of making your website \\u2018world ready,\\u2019 and localisation is the process of adapting the website to one or more locales. I like to use this automotive analogy: Toyota first had to \\u2018internationalise\\u2019 the car by creating a platform that supported a steering wheel on either side, different engines, etc. The localisation of that car happened when it had to adapt to each region/country of the world.\\u201d To bring that automotive example back to the web for a moment, the internationalisation phase bears more on the architecture and design of your website. This is the point where you make some important decisions that will make the site more easily adaptable to different markets or languages. There are three key ideas to hold in mind at this stage: 1. Keep it simple. Avoid heavy graphics or extensive use of rich media, especially to the extent that such elements will interfere with page performance on mobile devices. Mobile is especially key in major markets such as China and India, and plays an important role in burgeoning African markets as well. But whether mobile or desktop, a simpler site design can also adapt more readily to the spacing and styling requirements of different languages and letterforms. For example, some languages, such as Arabic or Hebrew, are read right to left. This means that basic interface elements on multi-lingual sites, including\\xa0background images and calls to action, have to be designed with such fundamental variations in mind. 2. Play by the rules. As with all things web, it is always best to build and operate your website according to established web standards and best practices. And in today\\u2019s globalised context, there are plenty of guidelines in place for handling a wide range of languages. The World Wide Web Consortium (W3C) is the international standards body for the Internet, and it has published a considerable amount of best practices guidance on the subject, including a detailed index for styling text content in multiple languages. 3. Take your brand with you. In another recent post, Tim Parry points out that the strongest global brands rely on an equally agile and adaptable brand messaging. \\u201cBrands that use simplicity in their messaging typically have an easier time translating their overall brand voice,\\u201d he says. \\u201cAvoid buzzwords, which tend to be tied closely to a specific place and time, and instead focus on emotional values to make your brand more universal.\\u201d Machine translation, notably from such services as Google Translate, seems to get better all the time. Even so, there is a growing body opinion that marketers should be prepared to invest in human translation, and especially so for languages used in key target markets. Aside from that, the key point to hold in mind is that localise where and when you can. \\u201cTake it slow and think long term,\\u201d adds Mr Yunker. \\u201cRemember that every globally successful website today, including Facebook, Amazon and Google, began with just one language.\\u201d When it comes to an institution or school website, the implication in this approach is that you might use human translation for only part of your site or only for languages spoken in key target markets. (Perhaps leaving yourself the option of using machine translation for lower priority content or languages.) For some further thoughts on strategy in this area, please see our earlier post on the subject, \\u201cLost in translation: the challenge of delivering web content in many languages\\u201d. Did you enjoy this article? Then don't miss the next one!\\nSign up for free daily and/or weekly e-alerts today. Your email address will not be published. Required fields are marked * Comment  Name *  Email *  Website   \\n\\n\""
      ]
     },
     "execution_count": 130,
     "metadata": {},
     "output_type": "execute_result"
    }
   ],
   "source": [
    "[item[1] for item in libl][0][2]"
   ]
  },
  {
   "cell_type": "code",
   "execution_count": 80,
   "metadata": {
    "collapsed": true
   },
   "outputs": [],
   "source": [
    "# CONVERT WORD NUMBERS TO INT\n",
    "\n",
    "def text2int(textnum, numwords={}):\n",
    "    if not numwords:\n",
    "      units = [\n",
    "        \"zero\", \"one\", \"two\", \"three\", \"four\", \"five\", \"six\", \"seven\", \"eight\",\n",
    "        \"nine\", \"ten\", \"eleven\", \"twelve\", \"thirteen\", \"fourteen\", \"fifteen\",\n",
    "        \"sixteen\", \"seventeen\", \"eighteen\", \"nineteen\",\n",
    "      ]\n",
    "\n",
    "      tens = [\"\", \"\", \"twenty\", \"thirty\", \"forty\", \"fifty\", \"sixty\", \"seventy\", \"eighty\", \"ninety\"]\n",
    "\n",
    "      scales = [\"hundred\", \"thousand\", \"million\", \"billion\", \"trillion\"]\n",
    "\n",
    "      numwords[\"and\"] = (1, 0)\n",
    "      for idx, word in enumerate(units):    numwords[word] = (1, idx)\n",
    "      for idx, word in enumerate(tens):     numwords[word] = (1, idx * 10)\n",
    "      for idx, word in enumerate(scales):   numwords[word] = (10 ** (idx * 3 or 2), 0)\n",
    "\n",
    "    current = result = 0\n",
    "    for word in textnum.split():\n",
    "        if word not in numwords:\n",
    "          raise Exception(\"Illegal word: \" + word)\n",
    "\n",
    "        scale, increment = numwords[word]\n",
    "        current = current * scale + increment\n",
    "        if scale > 100:\n",
    "            result += current\n",
    "            current = 0\n",
    "\n",
    "    return result + current"
   ]
  },
  {
   "cell_type": "code",
   "execution_count": 88,
   "metadata": {},
   "outputs": [
    {
     "data": {
      "text/plain": [
       "2017"
      ]
     },
     "execution_count": 88,
     "metadata": {},
     "output_type": "execute_result"
    }
   ],
   "source": [
    "text2int('two thousand seventeen')"
   ]
  },
  {
   "cell_type": "code",
   "execution_count": 94,
   "metadata": {},
   "outputs": [
    {
     "data": {
      "text/plain": [
       "'If there were only 100 people in the world, says web globalisation expert John Yunker, more than half of them would live in Asia. North America would account for only seven ihaZEhzDHkP5V3iQQKhuLH'"
      ]
     },
     "execution_count": 94,
     "metadata": {},
     "output_type": "execute_result"
    }
   ],
   "source": [
    "# TEST: TAG EACH SENTENCE WITH ITS URL\n",
    "\n",
    "s = 'If there were only 100 people in the world, says web globalisation expert John Yunker, more than half of them would live in Asia. North America would account for only seven.'\n",
    "i = 'ihaZEhzDHkP5V3iQQKhuLH'\n",
    "\n",
    "s[:-1]+\" \"+i"
   ]
  },
  {
   "cell_type": "markdown",
   "metadata": {},
   "source": [
    "#### Processing the sentences"
   ]
  },
  {
   "cell_type": "code",
   "execution_count": null,
   "metadata": {
    "collapsed": true
   },
   "outputs": [],
   "source": [
    "from __future__ import division\n",
    "import nltk, re, pprint\n",
    "from nltk.tokenize import sent_tokenize\n",
    "from nltk import word_tokenize"
   ]
  },
  {
   "cell_type": "code",
   "execution_count": 180,
   "metadata": {},
   "outputs": [],
   "source": [
    "f = open('news.txt')\n",
    "raw = f.read()"
   ]
  },
  {
   "cell_type": "code",
   "execution_count": null,
   "metadata": {
    "collapsed": true
   },
   "outputs": [],
   "source": [
    "def sentence_finder(text,word):\n",
    "        sentences=sent_tokenize(text)\n",
    "        return [sent for sent in sentences if word in word_tokenize(sent)]"
   ]
  },
  {
   "cell_type": "code",
   "execution_count": null,
   "metadata": {
    "collapsed": true
   },
   "outputs": [],
   "source": [
    "digits = []\n",
    "digits.append(re.findall('\\d+', raw))\n",
    "for i in digits[0]:\n",
    "    sentences.append(sentence_finder(raw,i))"
   ]
  },
  {
   "cell_type": "markdown",
   "metadata": {},
   "source": [
    "#### Find sentences that contain xxxx"
   ]
  },
  {
   "cell_type": "code",
   "execution_count": null,
   "metadata": {
    "collapsed": true
   },
   "outputs": [],
   "source": [
    "sentence_finder(raw,'2016')"
   ]
  }
 ],
 "metadata": {
  "kernelspec": {
   "display_name": "Python 2",
   "language": "python",
   "name": "python2"
  },
  "language_info": {
   "codemirror_mode": {
    "name": "ipython",
    "version": 2
   },
   "file_extension": ".py",
   "mimetype": "text/x-python",
   "name": "python",
   "nbconvert_exporter": "python",
   "pygments_lexer": "ipython2",
   "version": "2.7.13"
  }
 },
 "nbformat": 4,
 "nbformat_minor": 2
}
