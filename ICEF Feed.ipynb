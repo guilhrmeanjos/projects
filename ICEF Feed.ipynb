{
 "cells": [
  {
   "cell_type": "markdown",
   "metadata": {},
   "source": [
    "### Parsing"
   ]
  },
  {
   "cell_type": "code",
   "execution_count": 2,
   "metadata": {
    "collapsed": true
   },
   "outputs": [],
   "source": [
    "from bs4 import BeautifulSoup\n",
    "import urllib2"
   ]
  },
  {
   "cell_type": "markdown",
   "metadata": {},
   "source": [
    "#### What do you want?"
   ]
  },
  {
   "cell_type": "code",
   "execution_count": 30,
   "metadata": {
    "collapsed": true
   },
   "outputs": [],
   "source": [
    "num_pages = 3\n",
    "articles = []"
   ]
  },
  {
   "cell_type": "markdown",
   "metadata": {},
   "source": [
    "#### Define the functions"
   ]
  },
  {
   "cell_type": "code",
   "execution_count": 272,
   "metadata": {
    "collapsed": true
   },
   "outputs": [],
   "source": [
    "def getSoupFromUrl(url):\n",
    "    req = urllib2.Request(url, headers={'User-Agent' : \"Chrome\"}) \n",
    "    con = urllib2.urlopen(req)\n",
    "    page = con.read()\n",
    "    soup = BeautifulSoup(page, \"lxml\")\n",
    "    con.close()\n",
    "    return soup"
   ]
  },
  {
   "cell_type": "code",
   "execution_count": 555,
   "metadata": {},
   "outputs": [
    {
     "name": "stdout",
     "output_type": "stream",
     "text": [
      "..0\n"
     ]
    }
   ],
   "source": [
    "base_url = 'http://monitor.icef.com/'\n",
    "tag=\"div\"\n",
    "attr1=\"class\"\n",
    "attr2=\"article\"\n",
    "articles = []\n",
    "num_pages = 1\n",
    "\n",
    "for i in range(num_pages):\n",
    "    url = 'http://monitor.icef.com/page/{}/'.format(i)\n",
    "    soup = getSoupFromUrl(url)\n",
    "    print(\"..{}\".format(i))\n",
    "    result = soup.find_all(tag, attrs={attr1: attr2})\n",
    "    for line in result[0:10]:\n",
    "        for row in line.find_all('a'):\n",
    "            soup = getSoupFromUrl(row.get(\"href\"))\n",
    "            paras = soup.find_all(\"p\")[:-14:]\n",
    "            content = \" \".join([para.getText() for para in paras])\n",
    "            articles.append(content)"
   ]
  },
  {
   "cell_type": "markdown",
   "metadata": {},
   "source": [
    "### Save article content only"
   ]
  },
  {
   "cell_type": "code",
   "execution_count": null,
   "metadata": {
    "collapsed": true
   },
   "outputs": [],
   "source": [
    "import codecs\n",
    "import re"
   ]
  },
  {
   "cell_type": "code",
   "execution_count": null,
   "metadata": {
    "collapsed": true
   },
   "outputs": [],
   "source": [
    "filename = 'news.txt'\n",
    "file = codecs.open(filename, \"w\", \"utf-8\")\n",
    "for article in articles:\n",
    "    file.write(re.sub( '\\s+', ' ', article).strip() + '\\n')\n",
    "file.close()"
   ]
  },
  {
   "cell_type": "markdown",
   "metadata": {},
   "source": [
    "### Extract the additional information you need"
   ]
  },
  {
   "cell_type": "code",
   "execution_count": 575,
   "metadata": {},
   "outputs": [],
   "source": [
    "# GET TITLES\n",
    "\n",
    "title = []\n",
    "for line in result[0:10]:\n",
    "    for row in line.find_all('a'):\n",
    "        title.append(row.get_text())"
   ]
  },
  {
   "cell_type": "code",
   "execution_count": 576,
   "metadata": {},
   "outputs": [
    {
     "data": {
      "text/plain": [
       "[u'Australia: Growth remains strong at mid-year',\n",
       " u'Brazilian outbound continues to strengthen with a trend to longer stays abroad',\n",
       " u'UK: Net migration questioned again as new data shows 97% of international students leave in time',\n",
       " u'Canadian language programmes register modest growth in 2016',\n",
       " u'Ireland moves to expand student housing stock',\n",
       " u'Slowing growth in foreign secondary enrolment carries important implications for US recruiters',\n",
       " u'Indian higher ed enrolment skyrocketing but foreign numbers remain modest',\n",
       " u'US: Most university business officers anticipate financial challenges ahead',\n",
       " u'The business case for translating your website',\n",
       " u'Megatrend: The shift to emerging markets']"
      ]
     },
     "execution_count": 576,
     "metadata": {},
     "output_type": "execute_result"
    }
   ],
   "source": [
    "title"
   ]
  },
  {
   "cell_type": "code",
   "execution_count": 577,
   "metadata": {},
   "outputs": [],
   "source": [
    "# GET LINKS\n",
    "link = []\n",
    "for line in result[0:10]:\n",
    "    for row in line.find_all('a'):\n",
    "        link.append(row[\"href\"])"
   ]
  },
  {
   "cell_type": "code",
   "execution_count": 578,
   "metadata": {},
   "outputs": [
    {
     "data": {
      "text/plain": [
       "['http://monitor.icef.com/2017/08/australia-growth-remains-strong-mid-year/',\n",
       " 'http://monitor.icef.com/2017/08/brazilian-outbound-continues-strengthen-trend-longer-stays-abroad/',\n",
       " 'http://monitor.icef.com/2017/08/uk-net-migration-questioned-new-data-shows-97-international-students-leave-time/',\n",
       " 'http://monitor.icef.com/2017/08/canadian-language-programmes-register-modest-growth-2016/',\n",
       " 'http://monitor.icef.com/2017/08/ireland-moves-expand-student-housing-stock/',\n",
       " 'http://monitor.icef.com/2017/08/slowing-growth-foreign-secondary-enrolment-carries-implications-us-recruiters/',\n",
       " 'http://monitor.icef.com/2017/08/indian-higher-ed-enrolment-skyrocketing-foreign-numbers-remain-modest/',\n",
       " 'http://monitor.icef.com/2017/08/us-university-business-officers-anticipate-financial-challenges-ahead/',\n",
       " 'http://monitor.icef.com/2017/08/business-case-translating-website/',\n",
       " 'http://monitor.icef.com/2017/08/megatrend-shift-emerging-markets/']"
      ]
     },
     "execution_count": 578,
     "metadata": {},
     "output_type": "execute_result"
    }
   ],
   "source": [
    "link"
   ]
  },
  {
   "cell_type": "code",
   "execution_count": 572,
   "metadata": {},
   "outputs": [],
   "source": [
    "# GET DATES\n",
    "\n",
    "dates = []\n",
    "\n",
    "for line in result[0:10]:\n",
    "    for row in line.find_all('a'):\n",
    "        soup = getSoupFromUrl(row.get(\"href\"))\n",
    "        dates.append(str(soup.find_all(\"span\", attrs={\"style\": \"margin-right:40px;position:relative;top:13px;\"})))"
   ]
  },
  {
   "cell_type": "code",
   "execution_count": 580,
   "metadata": {
    "scrolled": true
   },
   "outputs": [],
   "source": [
    "date = []\n",
    "\n",
    "for i in dates:\n",
    "    date.append(re.search(r'\\[\\<span style\\=\\\"margin\\-right\\:40px\\;position\\:relative\\;top\\:13px\\;\\\"\\>(.*?)\\<\\/span\\>', i).group(1))"
   ]
  },
  {
   "cell_type": "code",
   "execution_count": 581,
   "metadata": {},
   "outputs": [
    {
     "data": {
      "text/plain": [
       "['30 Aug  2017',\n",
       " '29 Aug  2017',\n",
       " '28 Aug  2017',\n",
       " '23 Aug  2017',\n",
       " '23 Aug  2017',\n",
       " '16 Aug  2017',\n",
       " '16 Aug  2017',\n",
       " '9 Aug  2017',\n",
       " '8 Aug  2017',\n",
       " '2 Aug  2017']"
      ]
     },
     "execution_count": 581,
     "metadata": {},
     "output_type": "execute_result"
    }
   ],
   "source": [
    "date"
   ]
  },
  {
   "cell_type": "markdown",
   "metadata": {},
   "source": [
    "### Save article content and general information"
   ]
  },
  {
   "cell_type": "code",
   "execution_count": 585,
   "metadata": {},
   "outputs": [],
   "source": [
    "lib = {z[0]:list(z[1:]) for z in zip(title,link,date,articles)}"
   ]
  },
  {
   "cell_type": "code",
   "execution_count": 587,
   "metadata": {},
   "outputs": [
    {
     "data": {
      "text/plain": [
       "[u'The business case for translating your website',\n",
       " u'Megatrend: The shift to emerging markets',\n",
       " u'Brazilian outbound continues to strengthen with a trend to longer stays abroad',\n",
       " u'Slowing growth in foreign secondary enrolment carries important implications for US recruiters',\n",
       " u'US: Most university business officers anticipate financial challenges ahead',\n",
       " u'Canadian language programmes register modest growth in 2016',\n",
       " u'Australia: Growth remains strong at mid-year',\n",
       " u'Indian higher ed enrolment skyrocketing but foreign numbers remain modest',\n",
       " u'Ireland moves to expand student housing stock',\n",
       " u'UK: Net migration questioned again as new data shows 97% of international students leave in time']"
      ]
     },
     "execution_count": 587,
     "metadata": {},
     "output_type": "execute_result"
    }
   ],
   "source": [
    "lib.keys()"
   ]
  },
  {
   "cell_type": "markdown",
   "metadata": {},
   "source": [
    "### Language processing"
   ]
  },
  {
   "cell_type": "markdown",
   "metadata": {},
   "source": [
    "#### How to return article information concatenated with the sentence of interest?\n",
    "        - Concatenate/\"tag\" every string with its article information (title, date, link)\n",
    "        - When processing the strings, ignore the additional information or \"tag\" but include it when printing\n",
    "        - Perhaps that could be achieved by adding the addtional information to the stopwords"
   ]
  },
  {
   "cell_type": "code",
   "execution_count": 602,
   "metadata": {},
   "outputs": [],
   "source": [
    "libl = lib.items()"
   ]
  },
  {
   "cell_type": "code",
   "execution_count": 606,
   "metadata": {},
   "outputs": [
    {
     "data": {
      "text/plain": [
       "[['http://monitor.icef.com/2017/08/business-case-translating-website/',\n",
       "  '8 Aug  2017',\n",
       "  u\"Short on time? Here are the highlights: If there were only 100 people in the world, says web globalisation expert John Yunker, more than half of them would live in Asia. North America would account for only seven. This is a bit of a jarring mental exercise but one that highlights how much population and economic growth has taken hold outside of the world\\u2019s developed markets. And it\\u2019s an idea that underpins the business case for investing more in adapting the structure, design, and content of your website for international markets. The following table illustrates the composition of global Internet usage in terms of the native languages of users, and it offers a couple of broad observations on the state of the web today. \\nInternet users by native language, March 2017. Source: Internet World Stats First, only about a quarter of web users are native English speakers. There is an important qualifier here in that these statistics are based on native languages spoken, and of course there will be large numbers of users with other native languages who also speak English. However, when it comes to reaching those with more limited English skills, including the parents of prospective students, or even getting a competitive advantage by dealing with prospects in their native language, the table carries some significant implications for international recruiters. Among its other key findings, the latest statistics indicate that the top ten native language groups account for nearly eight in ten of all users on the web. It notes as well that the growth of several other native language groups has greatly outstripped the growth in the native-English base over the last seven years, particularly with respect to native Chinese, Arabic, Indonesian/Malaysian, and Russian speakers. Needless to say, every institution or agency has to match its priorities and targets to that evolving pattern of global Internet user. But it nevertheless highlights some of the important macro trends regarding language usage online. In a recent interview, Mr Yunker makes an interesting distinction between the related processes of internationalising and then localising your website: \\u201cInternationalisation is the process of making your website \\u2018world ready,\\u2019 and localisation is the process of adapting the website to one or more locales. I like to use this automotive analogy: Toyota first had to \\u2018internationalise\\u2019 the car by creating a platform that supported a steering wheel on either side, different engines, etc. The localisation of that car happened when it had to adapt to each region/country of the world.\\u201d To bring that automotive example back to the web for a moment, the internationalisation phase bears more on the architecture and design of your website. This is the point where you make some important decisions that will make the site more easily adaptable to different markets or languages. There are three key ideas to hold in mind at this stage: 1. Keep it simple. Avoid heavy graphics or extensive use of rich media, especially to the extent that such elements will interfere with page performance on mobile devices. Mobile is especially key in major markets such as China and India, and plays an important role in burgeoning African markets as well. But whether mobile or desktop, a simpler site design can also adapt more readily to the spacing and styling requirements of different languages and letterforms. For example, some languages, such as Arabic or Hebrew, are read right to left. This means that basic interface elements on multi-lingual sites, including\\xa0background images and calls to action, have to be designed with such fundamental variations in mind. 2. Play by the rules. As with all things web, it is always best to build and operate your website according to established web standards and best practices. And in today\\u2019s globalised context, there are plenty of guidelines in place for handling a wide range of languages. The World Wide Web Consortium (W3C) is the international standards body for the Internet, and it has published a considerable amount of best practices guidance on the subject, including a detailed index for styling text content in multiple languages. 3. Take your brand with you. In another recent post, Tim Parry points out that the strongest global brands rely on an equally agile and adaptable brand messaging. \\u201cBrands that use simplicity in their messaging typically have an easier time translating their overall brand voice,\\u201d he says. \\u201cAvoid buzzwords, which tend to be tied closely to a specific place and time, and instead focus on emotional values to make your brand more universal.\\u201d Machine translation, notably from such services as Google Translate, seems to get better all the time. Even so, there is a growing body opinion that marketers should be prepared to invest in human translation, and especially so for languages used in key target markets. Aside from that, the key point to hold in mind is that localise where and when you can. \\u201cTake it slow and think long term,\\u201d adds Mr Yunker. \\u201cRemember that every globally successful website today, including Facebook, Amazon and Google, began with just one language.\\u201d When it comes to an institution or school website, the implication in this approach is that you might use human translation for only part of your site or only for languages spoken in key target markets. (Perhaps leaving yourself the option of using machine translation for lower priority content or languages.) For some further thoughts on strategy in this area, please see our earlier post on the subject, \\u201cLost in translation: the challenge of delivering web content in many languages\\u201d. Did you enjoy this article? Then don't miss the next one!\\nSign up for free daily and/or weekly e-alerts today. Your email address will not be published. Required fields are marked * Comment  Name *  Email *  Website   \\n\\n\"],\n",
       " ['http://monitor.icef.com/2017/08/megatrend-shift-emerging-markets/',\n",
       "  '2 Aug  2017',\n",
       "  u\"Short on time? Here are the highlights: Economic and population growth are shaking up the global power structure \\u2013\\xa0away from the G7 countries and towards Asia, Africa, and Latin America. According to PwC projections, China\\u2019s economy will unquestionably be larger than America\\u2019s by 2028. The economy of India will be the second largest by 2050, Mexico and Indonesia will surpass the UK and France by 2030, and Nigeria and Vietnam will be among the world\\u2019s fastest-growing economies over the next three or four decades.  What\\u2019s required to support these economic expansions? Highly qualified workforces, of course, composed of graduates from world-class universities and colleges. Two simultaneous trends have resulted: Millions of international students continue to pursue degrees at established institutions in Western markets. Foreign enrolments in the US alone broke the one million mark in 2015/16. More students than ever are also flocking to Canada, Australia, Ireland, and New Zealand. But notably, America\\u2019s market share slipped from 28% in 2001 to 22% in 2016, and foreign enrolments in the UK have not grown since 2012. By contrast, Asian destinations are attracting ever more international students, particularly from within the region. Prestigious American and British universities used to be able to count on their reputations to attract international students, but this is changing. A growing segment of international students \\u2013 while still looking for high-quality degrees \\u2013 are now open to alternative destinations that are more affordable and close to home. When such destinations also offer relatively welcoming visa policies and options for international students to work during or after their studies, they become still more attractive when measured against the more restrictive visa and immigration policies of the US and UK. This brings us to the second trend: Asia is solidifying its position as a compelling regional hub for students considering study abroad. The governments of Japan, China, Malaysia, Taiwan, and South Korea have been hard at work increasing domestic higher education capacity, and they have set ambitious targets for international enrolments in 2020 and beyond \\u2013 targets they are on track to meet. Asian institutions are also climbing up world university rankings, such as the Times Higher Education World Reputation Rankings and the Shanghai Ranking. Fully one-tenth of the universities on the Times Higher Education 2016\\u201317 Top 100 ranking are Asian, for example. One of the biggest stories of 2016 was that China hosted so many international students (442,773 \\u2013 an 11.4% increase over 2015) that it now vies with Canada for fourth place as a destination market, behind only the US, UK, and Australia. Even five years ago, China could only have been categorised as a major sending market. Economic power shifts are a major factor in turning students\\u2019 attention to Asian destinations: China is a superpower in this respect; India has the fastest growth rate of any major economy; and the ASEAN countries of Brunei, Cambodia, Indonesia, Laos, Malaysia, Myanmar, the Philippines, Singapore, Thailand, and Vietnam are responsible for one-third of world trade. The next generation of leading study destinations, then, is already coming into focus. As the centre of economic and political power shifts to Asia, international students \\u2013 not only from within the region but from the West as well \\u2013 will increasingly consider Asian institutions for study abroad. Even the highest ranked Western institutions, which traditionally haven\\u2019t had to recruit overseas in earnest because of their reputations, will have to compete more strategically and vigorously, starting now. For additional background, please see: Did you enjoy this article? Then don't miss the next one!\\nSign up for free daily and/or weekly e-alerts today. Pingback: Megatrend: The shift to emerging markets | MemePosts Pingback: The business case for translating your website - ICEF Monitor - Market intelligence for international student recruitment Your email address will not be published. Required fields are marked * Comment  Name *  Email *  Website   \\n\\n\"],\n",
       " ['http://monitor.icef.com/2017/08/brazilian-outbound-continues-strengthen-trend-longer-stays-abroad/',\n",
       "  '29 Aug  2017',\n",
       "  u\"Short on time? Here are the highlights: The Brazilian Educational and Language Travel Association (Belta) has expanded on its annual agent survey with a complementary survey of former or prospective students. In combination, the two research efforts paint a picture of a continued strengthening in Brazil\\u2019s outbound market after an economic downturn saw student numbers fall off in 2015. We reported earlier on Belta\\u2019s preliminary data release for this year\\u2019s survey, which highlighted a 14% year-over-year increase\\xa0in outbound students for 2016. This amounts to 247,000 students abroad during the year with direct spending estimated at US$2.2 billion. Belta has now released additional data from its annual agent survey, and the new findings highlight a trend to longer-term study among Brazilian students. While most are still going abroad for short-term programmes of two-to-three months duration (37.8%), there was also a pronounced shift to longer stays in 2016. Of particular note, nearly 7% booked programmes of 12 months or more in 2016 compared to the 0% who did so the year before. Respondents to the Belta survey reported an average spend of US$8,902 for 2016 which represents an attention-getting 82% increase over 2015. \\u201cThe increase in the average amount invested is due to a greater demand for long-term programmes,\\u201d said Belta President Maura Le\\xe3o. \\u201cThe students are more mature and, consequently, in addition to language courses, they\\u2019re also looking for higher education to match job opportunities.\\u201d Language programmes remain the primary area of demand in Brazil, including programmes that incorporate temporary work opportunities as well as summer and winter camps for juniors. Even so, and in a reflection of Ms Le\\xe3o\\u2019s earlier point regarding higher education, respondents to the Belta student survey also indicated a growing interest in undergraduate programmes in 2016. Illustrating both a measure of economic recovery in Brazil as well as a decline scholarship funding (most notably the drop in Science Without Borders support), the vast majority of students (82%) were entirely or partially self-funded in 2016. The top study destinations for Brazilian students remained unchanged last year with Canada as the preferred choice, followed by the US, Australia, Ireland, UK, and New Zealand. Brazilian agents report that the leading factors that guide client decision-making with respect to country choice include: exchange rates, quality of life/student experience, policies that allow students to combine study and work, quality of student services, and the ease with which students can acquire a visa. Nearly two-thirds of responding agents reported growth in 2016 (with 22% indicating a decline in bookings between 2015 and 2016). Meanwhile, roughly three in four students responding to the Belta survey reported using an agency in 2016. Most cited \\u201ctrust in the programme offered\\u201d (42%) as the main reason for working with a Brazilian agency. \\u201cCustom-tailored services\\u201d, \\u201cEasy to get in contact\\u201d, and \\u201cPayment methods compatible with my budget\\u201d were other important factors cited by students who had engaged agents. \\u201cResearch shows that there has been an increase in the demand to [book with] an educational travel agency, because consulting with a specialised consultant offers significantly decreased chances of making a wrong decision,\\u201d notes Ms Le\\xe3o. Belta\\u2019s expanded research findings were released on 2 August at a special 25th anniversary celebration for the association in S\\xe3o Paulo. Also at the event, Canada\\u2019s Consul General in Brazil, St\\xe9phane Larue, presented Maura Le\\xe3o with the Noble Partner of Canada medal, a distinction that recognises Belta as a key bilateral partner in Brazil. For additional background, please see: Did you enjoy this article? Then don't miss the next one!\\nSign up for free daily and/or weekly e-alerts today. Your email address will not be published. Required fields are marked * Comment  Name *  Email *  Website   \\n\\n\"],\n",
       " ['http://monitor.icef.com/2017/08/slowing-growth-foreign-secondary-enrolment-carries-implications-us-recruiters/',\n",
       "  '16 Aug  2017',\n",
       "  u\"Short on time? Here are the highlights: A new report from the Institute of International Education (IIE) highlights that the number of international secondary students in the US more than tripled between 2004 and 2016. Globally Mobile Youth: Trends in International Secondary Students in the United States, 2013\\u20132016\\xa0estimates that there were just under 82,000 foreign students in US schools as of fall 2016, with most seeking a US high school diploma in preparation for university study in America. In fact, just over seven in ten (72%) of those enrolled in 2016 were studying on F-1 visas, indicating a longer-term study orientation on a path to a US diploma (as opposed to shorter-term exchange students on J-1 visas). While the overall growth pattern in secondary enrolments, and the drive to earn a diploma in the US, are both well-established by now, the report also highlights that the number of US schools hosting international students has increased markedly over the past few years. \\u201cThe number of US schools enrolling international students grew from 2,300 in 2013 to 2,800 in 2016,\\u201d says IIE. \\u201cThe increase in schools enrolling international students outpaces the growth in student numbers, suggesting that there may be greater competition for students among high schools hosting international students.\\u201d This increasing competition will now likely be further exacerbated by what is clearly a slowing of enrolment growth from 2013 onward. \\u201cThe annual growth rate of F-1 diploma-seeking students was 8% from fall 2013 to fall 2014, followed by 3% growth in fall 2015 and 1% growth in fall 2016,\\u201d adds the report. \\u201cAt the same time, the number of J-1 exchange students has fallen, declining annually by 2% each year in 2014 and 2015, and 4% in 2016.\\u201d The four-year trends for both major visa types are summarised in the chart below, and clearly reflect an overall flattening of enrolment growth. \\nInternational diploma-seeking (F-1) and exchange (J-1) enrolment in US high schools, 2013\\u20132016. Source: IIE Not surprisingly, China has been an important driver of secondary enrolment growth in the US over the past decade and this remains the case today. But this is also what makes any notable slowing in Chinese enrolment growth especially notable. As the following chart illustrates, the numbers of Chinese secondary students are so significant that any flattening of demand from China has an important effect in shaping the overall foreign enrolment in US high schools. In fact, the top six sending countries for diploma-seeking students \\u2013 China, South Korea, Vietnam, Mexico, Japan, and Canada \\u2013 account for nearly eight in ten (78%) of F-1 secondary students in the US. And China alone accounts for nearly 60% of total enrolment. \\nLeading places of origin of F-1 secondary students, 2013\\u20132016. Source: IIE In this respect, the composition of secondary enrolment in the US, particularly with respect to diploma-seeking F-1 visa holders, very much mirrors the overall enrolment of foreign students in the US in the sense that there is a heavy dependence on a small number of source markets, and on China in particular. The situation is somewhat different, however, when it comes to the roughly three in ten foreign high school students on exchange programmes (J-1 visa holders) in the US. Where nearly 80% of diploma-seeking students come from Asia, just under 70% of exchange students arrive from Europe. \\nF-1 and J-1 visa holders by region of origin, 2016. Source: IIE These latest findings carry some important implications for recruiters in the US. First, the overall scale of foreign enrolment in US high schools continues to grow, at least with respect to diploma-seeking students. This means that secondary schools will in turn continue to be an important pathway for higher education recruitment going forward, and perhaps increasingly so. However, the flattening growth curve in secondary enrolment \\u2013 especially with respect to China \\u2013 along with the expanding field of schools hosting international students, means as well that competition will also increase. While not exactly competing for a shrinking pool of students, we now see a situation where there are more schools competing for a pool of students that is not growing nearly as quickly as it has in the past. Even so, as IIE Head of Research Rajika Bhandari recently said to The Washington Post, \\u201cThere\\u2019s a realisation that recruiting future international students to colleges and universities in the US is not just going to be about going overseas. A lot of them are actually right here in our backyard.\\u201d Did you enjoy this article? Then don't miss the next one!\\nSign up for free daily and/or weekly e-alerts today. Your email address will not be published. Required fields are marked * Comment  Name *  Email *  Website   \\n\\n\"],\n",
       " ['http://monitor.icef.com/2017/08/us-university-business-officers-anticipate-financial-challenges-ahead/',\n",
       "  '9 Aug  2017',\n",
       "  u\"Short on time? Here are the highlights: A new survey released by Inside Higher Ed finds that 71% of chief business officers (CBOs) agree that US higher education is in the midst of a financial crisis. This important indicator from the now-annual survey is on the rise, up from 63% last year and 56% in 2015. The survey also finds a growing concern among CBOs for the future outlook of their respective institutions. An accompanying commentary from Inside Higher Ed notes, \\u201cJust 56% of survey respondents agreed or strongly agreed that their institutions will be financially stable over the next five years, down from 64% a year ago. Less than half, 48%, agreed or strongly agreed their institutions will be financially stable over the next 10 years, down from 54% a year ago.\\u201d Simply put, the issue is enrolment. Student numbers are falling short of growth targets in many US institutions, and the prevailing demographic trends project only marginal growth in the pool of college-aged students in the years ahead. In the absence of growth, many CBOs can see a future where they will be asked to cut expenses. In a reflection of the growing importance of international education to many institutions, a majority (54%) also acknowledged that any changes in US immigration policies that discourage foreign students from studying in the US would \\u201caffect their college\\u2019s financial situation a great deal (21%) or a moderate amount (33%).\\u201d In response, a majority of US colleges are doubling down with new plans to increase revenues, whether by setting new strategies to increase enrolment (71% said they would pursue this option), or by reducing tuition discounts to students in order to increase net tuition receipts (23%). In both respects, however, the percentage of respondents that indicated they would pursue such strategies declined from recent-year surveys, suggesting again that the emphasis is beginning to swing toward cost control this year. Half of the CBOs responding to this year\\u2019s survey acknowledged that their institutions would likely cut some academic programmes in 2017/18. Just over three in ten (31%) said they would be introducing early retirement programmes to reduce staff numbers, and nearly half (44%) said their institutions would cut some administrative positions. About a third of survey respondents are also looking to faculty for some savings, whether by increasing teaching loads for full-time faculty members or shifting some teaching responsibilities to lower-cost junior staff. In a nod to more dramatic cost-saving measures, one in eight said that senior leadership at their college or university had held internal discussions about merging with another institution, and one in four report similar deliberations around consolidating services among campuses. This year\\u2019s Inside Higher Ed survey drew 409 responses from US CBOs over a six-week period in May and June 2017. This is the seventh such survey commissioned by Inside Higher Ed and carried out by Gallup. The survey has become an important indicator for the business climate facing US colleges and universities, and it reflects growing scrutiny of, and concern around, the traditional business model for higher education institutions. The main underlying factors here are a downward pressure on revenue (due to off-target enrolment numbers and increasing competition) and upward pressure on costs arising from necessary technology and capital investments, declining public funding support, and even simply inflation from year to year. Starting about two years ago, we began to see a more open acknowledgement of the financial challenges facing US institutions, including a notably negative outlook from Standard & Poor\\u2019s in 2015. But the situation is hardly unique to the US. Higher education institutions in Australia, Japan, Taiwan, and Europe are facing similar pressures, and many are actively pursuing new strategies to build enrolment, raises revenues, and/or control costs. From a recruitment point of view, this pressure on institutional business models is an important driver of new initiatives to build international student numbers, improve student services and student retention, and expand transnational education and online programmes. In 2013, a report from the US-based research centre TIAA-CREF Institute observed that, \\u201cMany colleges and universities are responding by experimenting with changes to their business models. Most of these initiatives are occurring at the margins, but some may prove significant. For instance, some schools are changing their discounting policies; others are experimenting with four-year price guarantees, the length of time required to earn a degree, more vigorous recruitment of foreign students, partnerships with overseas institutions, and increased operational efficiencies \\u2013 from streamlining back office functions to offering online learning to reach students \\u2026 Few new business models have emerged for higher education thus far, but with so much experimentation underway, change is certain.\\u201d Did you enjoy this article? Then don't miss the next one!\\nSign up for free daily and/or weekly e-alerts today. Your email address will not be published. Required fields are marked * Comment  Name *  Email *  Website   \\n\\n\"],\n",
       " ['http://monitor.icef.com/2017/08/canadian-language-programmes-register-modest-growth-2016/',\n",
       "  '23 Aug  2017',\n",
       "  u\"Short on time? Here are the highlights: The annual Languages Canada survey finds marginal year-over-year growth among the association\\u2019s 222 member programmes for 2016. Members reported total enrolment of 135,425 students for the year, an increase of 1% over 2015. Student weeks, however, declined again in 2016, down nearly 5% from the year before. \\nKey enrolment metrics for Language Canada member programmes, 2015 and 2016. Source: Languages Canada Reflecting a similar pattern in other major language travel destinations, that decline in student weeks has been driven in part by a growing proportion of junior students in Canadian programmes. Students aged 18-years-and-under accounted for about 8% of all language enrolments in Canada in 2015, but that proportion increased to nearly 9.5% last year. This shifting composition in enrolment and overall decline in weeks booked underscores a year of modest growth for the Canadian language sector. However, even marginal growth in student numbers is a welcome result after difficult trading conditions in 2015\\xa0saw student numbers and student weeks fall off by 2.5% and 4.5% respectively. Languages Canada points out as well that those 2016 numbers remain well below the previous-year peak from 2012. Indeed, even with last year\\u2019s growth overall enrolment declined by just over 5% between 2012 and 2016. The association attributes the prevailing trends in language enrolment to a combination of factors. \\u201cNational policy decisions within destination countries can influence where international students choose to study,\\u201d notes the survey report. \\u201cStudents looking to work during their language studies, for example, will more likely choose to study in Australia or New Zealand, where work and study is facilitated. They will not choose to study in Canada, where off-campus work during language study is effectively prohibited.\\u201d \\u201cRecent political shifts have also had seismic effects on the sector, the full results of which will not be seen for some time. For example, in May 2016, the Brexit vote caused shockwaves through traditional sending markets to the United Kingdom, with EU applications falling by 9% between 2015 and 2016. The November 2016 US election has shaken the confidence of many international students.\\u201d There are two other important qualifiers that accompany this year\\u2019s survey results. Fuelled in part by this return to positive growth for 2016, the sector remains an important contributor to Canada\\u2019s education exports with an estimated economic impact of CDN$1.44 billion (US$1.15 billion). This reflects student spending on \\u201cschool fees and supplies as well as living expenses, including accommodation, travel and transportation, food, and other expenditures.\\u201d As the following table indicates, the top ten sending markets for Canadian language programmes have been quite stable over the last several years. \\nTop ten sending markets for Canadian language programmes, 2012\\u20132016. Source: Languages Canada For the fourth year in a row, Japan, Brazil, and China were the top three senders. China, however, is showing a notable decline over the last three years, whereas South Korea, in the number four spot, has been essentially flat since 2012. Not surprisingly, Saudi Arabia is the other significant declining market among the top ten as scholarship support for Saudi students continues to fall off. Latin America shows as a promising region with Mexico and Colombia among the fastest-growing markets in the top ten and with both registering strong growth between 2014 and 2016. Languages Canada sees an opportunity for further growth there, and advocates further efforts to build the Canadian education brand in the region. \\u201cWe need to invest in diversifying, and establishing a stronger presence in Latin America, for example, where students, families and governments are looking for English and French education options abroad to enable a globally-oriented workforce,\\u201d says Executive Director Gonzalo Peralta. Members responding to the Languages Canada survey indicated that increasing competition within Canada (and, to a lesser extent, internationally) along with visa processing issues/visa refusals were their most pressing business challenges in 2016. Concerns around visa processing for language students loom especially large when paired with the survey\\u2019s finding that over half of the students enrolled with Languages Canada members required a visa to enter Canada. \\u201cHowever,\\u201d the report adds, \\u201cthe proportion of study permit-holding students declined for the second year in a row, from 34% in 2014 to 28% in 2015, and the number of non-visa holding students increased over that same time.\\u201d This bears as well on the progression of language students to further studies in the country. The survey indicates that one-third of language students intend to go on to post-secondary study in Canada, including both pathway and academic preparation students as well as those enrolled in general language studies. For additional background, please see: Did you enjoy this article? Then don't miss the next one!\\nSign up for free daily and/or weekly e-alerts today. Your email address will not be published. Required fields are marked * Comment  Name *  Email *  Website   \\n\\n\"],\n",
       " ['http://monitor.icef.com/2017/08/australia-growth-remains-strong-mid-year/',\n",
       "  '30 Aug  2017',\n",
       "  u\"Short on time? Here are the highlights: The latest year-to-date enrolment data for Australia paints a picture of continuing growth as the halfway point in the year approaches. Department of Education and Training (DET) numbers for YTD May 2017 show overall commencement growth of just over 12%. Building on equally strong commencement growth through 2015 and 2016, total enrolment numbers are up even more through May with a nearly 14% increase compared to the year before. As the following chart illustrates, the higher education and VET (vocational education and training) sectors account for most of this growth through May, with most other sectors registering more modest gains. \\nInternational student commencements in Australia, by education sector, 2006\\u20132016. Source: English Australia, DET A closer look behind the numbers reveals that just four markets \\u2013 China, India, Nepal, and Vietnam \\u2013 drove nearly all of the growth in higher education through May. In VET, meanwhile, China, South Korea, and Brazil lead the way with the greatest YTD growth. In fact, Brazil is an interesting part of the story so far this year. In a further indication of its strengthening outbound market, Brazil is one of the fastest-growing sending markets for Australia overall with nearly 12,000 commencements in the first half of 2017 and a 23% increase in programme starts compared to the year before. Other than China and India, which remain solidly entrenched at the top of the source market table, the other notable growth markets this year are Nepal (10,000 commencements YTD and 83% growth), Malaysia (also with about 10,000 new students and 18% growth), and Colombia (just over 7,000 commencements and 26% growth). In terms of total enrolment growth among Australia\\u2019s top ten sending markets, the big gainers through May are China (18%), Malaysia (18%), Nepal (47%), and Brazil (26%). These latest DET numbers follow another important indicator from the Australian Bureau of Statistics (ABS) earlier this month. ABS reports that the total value of international student spending in Australia, including tuition fees, accommodation, and other expenses, rose by nearly 19% in 2016 to reach AUS$24 billion (US$19 billion). Needless to say, this all adds up to an impressive showing in the early stages of implementation for Australia\\u2019s National Strategy for International Education 2025. The national strategy is a comprehensive ten-year blueprint for the expansion of Australia\\u2019s international education sector. Among other key goals, the strategy aims to expand onshore foreign enrolment to 720,000 students by 2025. For additional background please see: Did you enjoy this article? Then don't miss the next one!\\nSign up for free daily and/or weekly e-alerts today. Your email address will not be published. Required fields are marked * Comment  Name *  Email *  Website   \\n\\n\"],\n",
       " ['http://monitor.icef.com/2017/08/indian-higher-ed-enrolment-skyrocketing-foreign-numbers-remain-modest/',\n",
       "  '16 Aug  2017',\n",
       "  u\"Short on time? Here are the highlights: A new report from the Association of Indian Universities (AIU) paints a picture of a continuing dramatic expansion of Indian higher education. Internationalisation of Higher Education in India points out that with 33 million students enrolled in nearly 800 universities and 40,000 colleges, the Indian system is one of the largest in the world (and currently second only to China in terms of total enrolment). \\u201cGoing by the demographic trends and rapid expansion, it will soon become the single largest system of higher education in the world,\\u201d adds the report. Indeed, the Indian government is in the midst of making good on its\\xa0very ambitious target to increase tertiary gross enrolment ratios to 30% by 2020. That participation rate stood at just under 18% as of 2010 but had climbed to nearly 27% by 2015. As that rapid expansion suggests, the focus in Indian higher education over the past decade has been very much on building capacity and improving access for domestic students. Even so, the AIU aims to call attention to the limited foreign enrolment in Indian institutions. The association points out that institutions are permitted to enrol foreign students up to a limit\\xa0of 15% of their total enrolment quotas, meaning that Indian universities have the collective capacity to enrol nearly five million foreign students under current rules. This is, however, a highly theoretical ceiling. The total global population of internationally mobile students only recently moved past five million, and AIU survey data makes it clear that Indian universities are attracting only a small percentage of that total. Based on a survey of member institutions, the AIU calculates total foreign enrolment in Indian higher education at 30,423 for 2015, down slightly from just over 31,000 the year before. This count is based on 341 completed surveys out of a population of 593 potential respondents. The AIU concludes, however, that the completed surveys provide a reasonably complete picture of foreign enrolment, in part by assuming that \\u201call those universities that had international students reported the data and thus those not reporting the data do not have international students on their campuses.\\u201d Even so, the most recent UNESCO data suggests that there is some undercounting in the AIU tally. UNESCO puts the total overseas enrolment in India at nearly 42,000 for 2015 \\u2013\\xa0a number that, while substantially different in percentage terms, does not meaningfully alter the findings in the AIU survey. Overall, AIU describes a pattern of modest inbound growth, from about 8,000 foreign students in 2000 to more than 30,000 as of 2015. This represents a nearly three-fold increase over the 15 years with total overseas enrolment more than doubling between 2005 and 2015. That slow but steady growth of course pales in comparison to Indian outbound numbers over the same period. As of 2016, there were more than 255,000 Indian students enrolled abroad, and India \\u2013 again second only to China \\u2013 has been a major driver of growth in international mobility for some years now. When it comes to inbound though, most foreign students enrolled in India come from other Asian countries. Roughly six in ten overseas students in India are from elsewhere in Asia and another 20% come from Africa. But where the proportion of Asian students is on the rise (up from just under 50% in 2000), the reverse is true for Africa, which accounted for more like 40% of all foreign enrolment in the early 2000s. The following table reflects the leading sending markets for inbound students to India as of 2015 \\u2013\\xa0please note that \\u201cPIO/NRI\\u201d refers to non-resident Indians, that is students drawn from the Indian diaspora that are not permanent residents of India. As the table indicates, roughly half of India\\u2019s foreign enrolment comes from the top five sending markets. \\nTop sources of international students in India, 2014/15. Source: AIU Among other key findings in the AIU report: The AIU is not subtle in expressing its views on the current state of internationalisation in Indian higher education. It is \\u201cconcerned about the low numbers of international students in our campuses,\\u201d notes the report, which adds that India\\u2019s global market share is \\u201cabysmally low at only 0.61%.\\u201d The result, AIU adds, is that Indian universities \\u201care losing out on the advantage of not only generating some revenue but also of making their campuses diverse.\\u201d The AIU notes as well that many Indian institutions are simply not actively engaged in international student recruitment at this point. (Only about six in ten universities indicate any sort of active marketing or promotion in international markets.) To help build the country\\u2019s share of internationally mobile students, the report calls for a national international education strategy, and for greater collaboration between the various levels of government and international educators in India and abroad. Did you enjoy this article? Then don't miss the next one!\\nSign up for free daily and/or weekly e-alerts today. This figure may not be very accurate, the students from countries like Yemen, Mongolia, Thailand are not figuring\\nIndia is also a big attraction for learning English language. Government of India needs to promote short term courses offered by private institutes.\\nThere many Institutes offer quality training in English Language and Information Technology. Your email address will not be published. Required fields are marked * Comment  Name *  Email *  Website   \\n\\n\"],\n",
       " ['http://monitor.icef.com/2017/08/ireland-moves-expand-student-housing-stock/',\n",
       "  '23 Aug  2017',\n",
       "  u\"Short on time? Here are the highlights: Most university students in Ireland (41%) would prefer to live in purpose-built student accommodation (PBSA), while another 27% would choose private rental housing. It happens, however, that only about a third of higher education students in Ireland have a PBSA bed while 31% live in private rentals. These are some of the key findings from a new report from the Union of Students in Ireland (USI). The USI report underscores a long-standing challenge with respect to housing in Ireland, and student housing in particular. Simply put: there is not enough affordable housing to keep pace with demand, and that limited availability is driving up costs. For the new academic year starting in September, the PBSA shortfall alone has been estimated at 23,000 beds. \\u201cIn recent years, the shortage in student accommodation has forced students, families and professionals to race for accommodation, and compete for somewhere to live,\\u201d said USI President Michael Kerrigan. \\u201cIn many instances, this competition has pushed students to take accommodation that exists outside of their price range.\\u201d Another recent study, this time from the property search website Daft.ie, points out that average rents in Ireland are now 13% above the previous peak from 2008. The situation is even more acute in Dublin \\u2013\\xa0home to a majority of the country\\u2019s university students \\u2013\\xa0where rents are now averaging about 18% above their previous peak, and where average housing prices are up more than 12% over last year alone. On 20 July, the Irish government signalled its commitment to easing housing pressures with the launch of a new National Student Accommodation Strategy. The strategy sets out 27 action items in a bid to expand housing stock for domestic and international students alike. Its key metric is PBSA beds and it projects that up to nearly 11,000 new spaces will be created by 2019, considerably beyond the previously established target of 7,000 PBSA spots by that same year. All told, the National Student Accommodation Strategy aims to see an additional 21,000 PBSA beds constructed by 2024 through a combination of public and private development initiatives. If successful, this new housing stock will join an inventory of more than 33,000 PBSA spaces currently in place throughout Ireland. Interestingly, and quite correctly, the strategy draws a straight line between the availability of affordable student housing stock and Ireland\\u2019s attractiveness as an international study destination. \\u201cContinued increases in international student numbers, combined with the impact of increased domestic student numbers, will put further pressure on the availability of PBSA,\\u201d notes the national strategy report. \\u201cThe availability of on-campus PBSA is an essential element of a HEI\\u2019s internationalisation strategy. HEIs have consistently reported that international students demand guaranteed accommodation for at least the first year at time of recruitment\\u2026[Further], research internationally has shown that students living in on-campus accommodation have higher retention rates than commuter students, and also exhibit higher scores on developmental scales.\\u201c The larger context for government action on this issue is that higher education enrolments in Ireland have continued to climb over the past ten years and further growth is forecast through the mid-2020s. Part of this growth is to be derived from expanding international enrolments, as set out in the Irish Education Globally Connected strategy released in late-2016. Globally Connected anticipates a 33% increase in foreign enrolment in Irish higher education by 2019/2020. For additional background, please see: Did you enjoy this article? Then don't miss the next one!\\nSign up for free daily and/or weekly e-alerts today. Your email address will not be published. Required fields are marked * Comment  Name *  Email *  Website   \\n\\n\"],\n",
       " ['http://monitor.icef.com/2017/08/uk-net-migration-questioned-new-data-shows-97-international-students-leave-time/',\n",
       "  '28 Aug  2017',\n",
       "  u\"Short on time? Here are the highlights: New data from border exit checks has led the UK\\u2019s Office for National Statistics\\xa0to conclude that \\u201cthere is no evidence of a major issue of non-EU students overstaying their entitlement to stay.\\u201d In fact, a corresponding report from the Home Office finds that 97.4% of foreign students leave the country before their study visa expires. Foreign students in the UK have remained part of the government\\u2019s net migration calculations in large part because of earlier official estimates that nearly 100,000 students per year overstay their visas. Those estimates have often been challenged by British educators, and indeed there have been some indications that actual number of overstaying students is considerably lower. The question as to whether international students should figure in the country\\u2019s net migration targets has also been contentious within the government, most recently in May of this year\\xa0when it appeared that Prime Minister Theresa May may have moved to exclude foreign students from net migration counts. This is not merely a question of bureaucracy or statistics. Foreign students\\u2019 inclusion in the net migration target has had demonstrable effects on international education in the UK in recent years, especially as the government\\u2019s broad policy direction of reducing migration levels has led it to introduce a number of proposals that have constrained work rights for international students, raised visa fees, imposed tighter controls on student immigration, and expanded monitoring and reporting responsibilities for British institutions. Against this backdrop, the new Home Office exit check data represents a major finding that again calls into question the current policy of including international students in annual net migration figures. Rather than the nearly 100,000 overstaying students suggested by earlier government estimates, the new border checks reveal the actual number of students who overstay was just over 4,600 for 2016/17. \\u201cThese two official reports show that there is very high visa compliance by international students,\\u201d said Universities UK Chief Executive Alistair Jarvis. \\u201cThe number of students overstaying their visas is a tiny fraction of previous (incorrect) claims.\\u201d Russell Group Acting Director Dr Tim Bradshaw added, \\u201cThis exit check data confirms that in addition to helping create a diverse learning environment and making a big economic impact, an overwhelming majority of international students comply fully with the terms of their visas.\\u201d Just as this new data was being released last week, Home Secretary Amber Rudd also announced that she has asked an expert panel to undertake a new study of the impacts of foreign students on the UK economy. The Home Secretary\\u2019s commissioning letter to the Migration Advisory Committee (MAC) strikes a notably more positive tone with respect to international recruitment. \\u201cThere is no limit on the number of genuine international students which educational institutions in the UK can recruit, and, equally importantly, the Government has consistently made clear that it has no plans to limit any institution\\u2019s ability to recruit international students,\\u201d said the Home Secretary. \\u201cAs long as students leave at the end of their studies, they should not be significantly contributing to net migration, and therefore there is no conflict between our commitment to reduce net migration and to attract international students.\\u201d Referring to the new border exit data, Ms Rudd added, \\u201cThe analysis of exit checks data published today shows that the overwhelming majority of students whose visa expired in 2016/17 were recorded as having left in-time.\\u201d The MAC will now examine the direct economic impacts associated with foreign student spending in the UK, as well as the broader social and economic impacts of international education in the country. The committee has been asked to file its report by September 2018. For additional background, please see: \\u2022 \\u201cApplications to British universities fall 4% overall\\u201d\\n\\u2022 \\u201cUK ELT declines for third straight year\\u201d\\n\\u2022 \\u201cMeasuring up: Global market share and national targets in international education\\u201d\\n\\u2022 \\u201cUK: Is the net migration question back on the table?\\u201d Did you enjoy this article? Then don't miss the next one!\\nSign up for free daily and/or weekly e-alerts today. Your email address will not be published. Required fields are marked * Comment  Name *  Email *  Website   \\n\\n\"]]"
      ]
     },
     "execution_count": 606,
     "metadata": {},
     "output_type": "execute_result"
    }
   ],
   "source": [
    "[item[1] for item in libl]"
   ]
  },
  {
   "cell_type": "markdown",
   "metadata": {},
   "source": [
    "#### Processing the sentences"
   ]
  },
  {
   "cell_type": "code",
   "execution_count": null,
   "metadata": {
    "collapsed": true
   },
   "outputs": [],
   "source": [
    "from __future__ import division\n",
    "import nltk, re, pprint\n",
    "from nltk.tokenize import sent_tokenize\n",
    "from nltk import word_tokenize"
   ]
  },
  {
   "cell_type": "code",
   "execution_count": null,
   "metadata": {
    "collapsed": true
   },
   "outputs": [],
   "source": [
    "f = open('news.txt')\n",
    "raw = f.read()"
   ]
  },
  {
   "cell_type": "code",
   "execution_count": null,
   "metadata": {
    "collapsed": true
   },
   "outputs": [],
   "source": [
    "def sentence_finder(text,word):\n",
    "        sentences=sent_tokenize(text)\n",
    "        return [sent for sent in sentences if word in word_tokenize(sent)]"
   ]
  },
  {
   "cell_type": "code",
   "execution_count": null,
   "metadata": {
    "collapsed": true
   },
   "outputs": [],
   "source": [
    "digits = []\n",
    "digits.append(re.findall('\\d+', raw))\n",
    "for i in digits[0]:\n",
    "    sentences.append(sentence_finder(raw,i))"
   ]
  },
  {
   "cell_type": "markdown",
   "metadata": {},
   "source": [
    "#### Find sentences that contain xxxx"
   ]
  },
  {
   "cell_type": "code",
   "execution_count": null,
   "metadata": {
    "collapsed": true
   },
   "outputs": [],
   "source": [
    "sentence_finder(raw,'2016')"
   ]
  }
 ],
 "metadata": {
  "kernelspec": {
   "display_name": "Python 2",
   "language": "python",
   "name": "python2"
  },
  "language_info": {
   "codemirror_mode": {
    "name": "ipython",
    "version": 2
   },
   "file_extension": ".py",
   "mimetype": "text/x-python",
   "name": "python",
   "nbconvert_exporter": "python",
   "pygments_lexer": "ipython2",
   "version": "2.7.13"
  }
 },
 "nbformat": 4,
 "nbformat_minor": 2
}
